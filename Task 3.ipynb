{
 "cells": [
  {
   "cell_type": "markdown",
   "id": "4a6a0fb2",
   "metadata": {},
   "source": [
    "REFERAL CODE:- SIRSS2263"
   ]
  },
  {
   "cell_type": "markdown",
   "id": "0ef6f941",
   "metadata": {},
   "source": [
    "NAME:- ABDULLAH RAHMAN"
   ]
  },
  {
   "cell_type": "markdown",
   "id": "66982588",
   "metadata": {},
   "source": [
    "## 1. FUNCTION TO RETURN NTH TERM FIBONACCI SERIES"
   ]
  },
  {
   "cell_type": "code",
   "execution_count": 1,
   "id": "54206558",
   "metadata": {},
   "outputs": [
    {
     "name": "stdout",
     "output_type": "stream",
     "text": [
      "Enter the number:12\n",
      "0 1 1 2 3 5 8 13 21 34 55 89 "
     ]
    }
   ],
   "source": [
    "def fibo(n):\n",
    "    a=1\n",
    "    b=1\n",
    "    if n==1:\n",
    "        print('0')\n",
    "    elif n==2:\n",
    "        print('0','1')\n",
    "    else:\n",
    "        print('0',a,b,end=' ')\n",
    "        for i in range(n-3):\n",
    "            total = a + b\n",
    "            b=a\n",
    "            a= total\n",
    "            print(total,end=' ')\n",
    "        \n",
    "        \n",
    "         \n",
    "n=int(input(\"Enter the number:\"))\n",
    "fibo(n)"
   ]
  },
  {
   "cell_type": "markdown",
   "id": "ab193d27",
   "metadata": {},
   "source": [
    "## 2. GCD OF TWO NUMBERS USING EUCLID's ALGORITHM"
   ]
  },
  {
   "cell_type": "code",
   "execution_count": 2,
   "id": "72967d30",
   "metadata": {},
   "outputs": [
    {
     "name": "stdout",
     "output_type": "stream",
     "text": [
      "Enter first number:4\n",
      "Enter second number:8\n",
      "4\n"
     ]
    }
   ],
   "source": [
    "def gcd(a,b):\n",
    "    if a< b: \n",
    "        (a,b) = (b,a)\n",
    "    while (a % b != 0):\n",
    "        (a, b) = (b, a % b)\n",
    "    return b\n",
    "\n",
    "a=int(input(\"Enter first number:\"))\n",
    "b=int(input(\"Enter second number:\"))\n",
    "print(gcd(a,b))"
   ]
  },
  {
   "cell_type": "markdown",
   "id": "03f8ffc4",
   "metadata": {},
   "source": [
    "## 3. LCM OF TWO NUMBERS IN MOST OPTIMIZED WAY"
   ]
  },
  {
   "cell_type": "code",
   "execution_count": 3,
   "id": "048e5865",
   "metadata": {},
   "outputs": [
    {
     "name": "stdout",
     "output_type": "stream",
     "text": [
      "Enter the first number:9\n",
      "Enter the second number:8\n",
      "The LCM of these numbers : 72\n"
     ]
    }
   ],
   "source": [
    "def gcd(x, y):\n",
    "\n",
    "   while(y):\n",
    "       x, y = y, x % y\n",
    "   return x\n",
    "\n",
    "\n",
    "def lcm(x, y):\n",
    "   lcm = (x*y)//gcd(x,y)\n",
    "   return lcm\n",
    "\n",
    "num1 = int(input(\"Enter the first number:\"))\n",
    "num2 = int(input(\"Enter the second number:\"))\n",
    "print(\"The LCM of these numbers :\", lcm(num1,num2) )"
   ]
  },
  {
   "cell_type": "code",
   "execution_count": null,
   "id": "9a75c304",
   "metadata": {},
   "outputs": [],
   "source": []
  }
 ],
 "metadata": {
  "kernelspec": {
   "display_name": "Python 3",
   "language": "python",
   "name": "python3"
  },
  "language_info": {
   "codemirror_mode": {
    "name": "ipython",
    "version": 3
   },
   "file_extension": ".py",
   "mimetype": "text/x-python",
   "name": "python",
   "nbconvert_exporter": "python",
   "pygments_lexer": "ipython3",
   "version": "3.8.8"
  }
 },
 "nbformat": 4,
 "nbformat_minor": 5
}
